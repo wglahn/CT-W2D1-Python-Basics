{
 "cells": [
  {
   "cell_type": "markdown",
   "metadata": {},
   "source": [
    "# Week 2 - Monday Lesson (variable assignment, loops, lists)"
   ]
  },
  {
   "cell_type": "markdown",
   "metadata": {},
   "source": [
    "## Tasks Today:\n",
    "\n",
    "1) Int & Float assignments <br>\n",
    " &nbsp;&nbsp;&nbsp;&nbsp; a) Assigning int <br>\n",
    " &nbsp;&nbsp;&nbsp;&nbsp; b) Assigning float <br>\n",
    " &nbsp;&nbsp;&nbsp;&nbsp; c) Performing Calculations on ints and floats <br>\n",
    " &nbsp;&nbsp;&nbsp;&nbsp;&nbsp;&nbsp;&nbsp;&nbsp; - Addition <br>\n",
    " &nbsp;&nbsp;&nbsp;&nbsp;&nbsp;&nbsp;&nbsp;&nbsp; - Subtraction <br>\n",
    " &nbsp;&nbsp;&nbsp;&nbsp;&nbsp;&nbsp;&nbsp;&nbsp; - Multiplication <br>\n",
    " &nbsp;&nbsp;&nbsp;&nbsp;&nbsp;&nbsp;&nbsp;&nbsp; - Division <br>\n",
    " &nbsp;&nbsp;&nbsp;&nbsp;&nbsp;&nbsp;&nbsp;&nbsp; - Floor Division <br>\n",
    " &nbsp;&nbsp;&nbsp;&nbsp;&nbsp;&nbsp;&nbsp;&nbsp; - Modulo <br>\n",
    " &nbsp;&nbsp;&nbsp;&nbsp;&nbsp;&nbsp;&nbsp;&nbsp; - Exponential <br>\n",
    "2) String Input-Output <br>\n",
    " &nbsp;&nbsp;&nbsp;&nbsp; a) String Assignment <br>\n",
    " &nbsp;&nbsp;&nbsp;&nbsp; b) print() <br>\n",
    " &nbsp;&nbsp;&nbsp;&nbsp; c) String Concatenation <br>\n",
    " &nbsp;&nbsp;&nbsp;&nbsp; d) Type Conversion <br>\n",
    " &nbsp;&nbsp;&nbsp;&nbsp; e) input() <br>\n",
    " &nbsp;&nbsp;&nbsp;&nbsp; f) format() <br>\n",
    " &nbsp;&nbsp;&nbsp;&nbsp; g) Old Way (python 2) <br>\n",
    "3) <b>In-Class Exercise #1</b> <br>\n",
    "4) If Statements <br>\n",
    " &nbsp;&nbsp;&nbsp;&nbsp; a) 'is' keyword <br>\n",
    " &nbsp;&nbsp;&nbsp;&nbsp; b) 'in' keyword <br>\n",
    " &nbsp;&nbsp;&nbsp;&nbsp; c) 'not in' keyword <br>\n",
    "5) <b>In-Class Exercise #2</b> <br>\n",
    "6) Elif Statements <br>\n",
    "7) Else Statements <br>\n",
    "8) <b>In-Class Exercise #3</b> <br>\n",
    "9) For Loops <br>\n",
    " &nbsp;&nbsp;&nbsp;&nbsp; a) Using 'in' keyword <br>\n",
    " &nbsp;&nbsp;&nbsp;&nbsp; b) Continue Statement <br>\n",
    " &nbsp;&nbsp;&nbsp;&nbsp; c) Break Statement <br>\n",
    " &nbsp;&nbsp;&nbsp;&nbsp; d) Pass Statement <br>\n",
    " &nbsp;&nbsp;&nbsp;&nbsp; e) Double For Loops <br>\n",
    "10) While Loops <br>\n",
    " &nbsp;&nbsp;&nbsp;&nbsp; a) Looping 'While True' <br>\n",
    " &nbsp;&nbsp;&nbsp;&nbsp; b) While and For Loops Used Together <br>\n",
    "11) Built-In Functions <br>\n",
    " &nbsp;&nbsp;&nbsp;&nbsp; a) range() <br>\n",
    " &nbsp;&nbsp;&nbsp;&nbsp; b) len() <br>\n",
    " &nbsp;&nbsp;&nbsp;&nbsp; c) help() <br>\n",
    " &nbsp;&nbsp;&nbsp;&nbsp; d) isinstance() <br>\n",
    " &nbsp;&nbsp;&nbsp;&nbsp; e) abs() <br>\n",
    "12) Try and Except <br>\n",
    "13) Lists <br>\n",
    " &nbsp;&nbsp;&nbsp;&nbsp; a) Declaring Lists <br>\n",
    " &nbsp;&nbsp;&nbsp;&nbsp; b) Indexing a List <br>\n",
    " &nbsp;&nbsp;&nbsp;&nbsp; c) .append() <br>\n",
    " &nbsp;&nbsp;&nbsp;&nbsp; d) .insert() <br>\n",
    " &nbsp;&nbsp;&nbsp;&nbsp; e) .pop() <br>\n",
    " &nbsp;&nbsp;&nbsp;&nbsp; f) .remove() <br>\n",
    " &nbsp;&nbsp;&nbsp;&nbsp; g) del() <br>\n",
    " &nbsp;&nbsp;&nbsp;&nbsp; h) Concatenating Two Lists <br>\n",
    " &nbsp;&nbsp;&nbsp;&nbsp; i) Lists Within Lists <br>\n",
    " &nbsp;&nbsp;&nbsp;&nbsp; j) Looping Through Lists <br>"
   ]
  },
  {
   "cell_type": "markdown",
   "metadata": {},
   "source": [
    "### Int & Float Assignments"
   ]
  },
  {
   "cell_type": "markdown",
   "metadata": {},
   "source": [
    "##### Assigning int"
   ]
  },
  {
   "cell_type": "code",
   "execution_count": 2,
   "metadata": {},
   "outputs": [
    {
     "name": "stdout",
     "output_type": "stream",
     "text": [
      "123\n",
      "<class 'int'>\n"
     ]
    }
   ],
   "source": [
    "number = 123\n",
    "print(number)\n",
    "print(type(number))"
   ]
  },
  {
   "cell_type": "markdown",
   "metadata": {},
   "source": [
    "##### Assinging float"
   ]
  },
  {
   "cell_type": "code",
   "execution_count": 3,
   "metadata": {},
   "outputs": [
    {
     "name": "stdout",
     "output_type": "stream",
     "text": [
      "123.456\n",
      "<class 'float'>\n"
     ]
    }
   ],
   "source": [
    "my_float = 123.456\n",
    "print(my_float)\n",
    "print(type(my_float))"
   ]
  },
  {
   "cell_type": "markdown",
   "metadata": {},
   "source": [
    "#### Performing Calculations on ints and floats"
   ]
  },
  {
   "cell_type": "markdown",
   "metadata": {},
   "source": [
    "##### Addition"
   ]
  },
  {
   "cell_type": "code",
   "execution_count": 5,
   "metadata": {},
   "outputs": [
    {
     "name": "stdout",
     "output_type": "stream",
     "text": [
      "5\n"
     ]
    },
    {
     "ename": "NameError",
     "evalue": "name 'my_new_num' is not defined",
     "output_type": "error",
     "traceback": [
      "\u001b[1;31m---------------------------------------------------------------------------\u001b[0m",
      "\u001b[1;31mNameError\u001b[0m                                 Traceback (most recent call last)",
      "\u001b[1;32m~\\AppData\\Local\\Temp/ipykernel_18928/2647056216.py\u001b[0m in \u001b[0;36m<module>\u001b[1;34m\u001b[0m\n\u001b[0;32m      3\u001b[0m \u001b[0mmy_var2\u001b[0m \u001b[1;33m=\u001b[0m \u001b[1;36m3\u001b[0m\u001b[1;33m\u001b[0m\u001b[1;33m\u001b[0m\u001b[0m\n\u001b[0;32m      4\u001b[0m \u001b[0mprint\u001b[0m\u001b[1;33m(\u001b[0m\u001b[0mmy_var1\u001b[0m \u001b[1;33m+\u001b[0m \u001b[0mmy_var2\u001b[0m\u001b[1;33m)\u001b[0m\u001b[1;33m\u001b[0m\u001b[1;33m\u001b[0m\u001b[0m\n\u001b[1;32m----> 5\u001b[1;33m \u001b[0mmy_new_num\u001b[0m \u001b[1;33m+=\u001b[0m \u001b[1;36m2\u001b[0m\u001b[1;33m\u001b[0m\u001b[1;33m\u001b[0m\u001b[0m\n\u001b[0m",
      "\u001b[1;31mNameError\u001b[0m: name 'my_new_num' is not defined"
     ]
    }
   ],
   "source": [
    "2 + 3\n",
    "my_var1 = 2\n",
    "my_var2 = 3\n",
    "print(my_var1 + my_var2)\n",
    "my_new_num += 2"
   ]
  },
  {
   "cell_type": "markdown",
   "metadata": {},
   "source": [
    "##### Subtraction"
   ]
  },
  {
   "cell_type": "code",
   "execution_count": 17,
   "metadata": {},
   "outputs": [
    {
     "name": "stdout",
     "output_type": "stream",
     "text": [
      "3.7\n",
      "1.7000000000000002\n"
     ]
    }
   ],
   "source": []
  },
  {
   "cell_type": "markdown",
   "metadata": {},
   "source": [
    "##### Multiplication"
   ]
  },
  {
   "cell_type": "code",
   "execution_count": 20,
   "metadata": {},
   "outputs": [
    {
     "name": "stdout",
     "output_type": "stream",
     "text": [
      "50\n",
      "100\n"
     ]
    }
   ],
   "source": []
  },
  {
   "cell_type": "markdown",
   "metadata": {},
   "source": [
    "##### Division"
   ]
  },
  {
   "cell_type": "code",
   "execution_count": 6,
   "metadata": {},
   "outputs": [
    {
     "data": {
      "text/plain": [
       "2.0"
      ]
     },
     "execution_count": 6,
     "metadata": {},
     "output_type": "execute_result"
    }
   ],
   "source": [
    "4 / 2"
   ]
  },
  {
   "cell_type": "markdown",
   "metadata": {},
   "source": [
    "##### Floor Division"
   ]
  },
  {
   "cell_type": "code",
   "execution_count": 7,
   "metadata": {},
   "outputs": [
    {
     "data": {
      "text/plain": [
       "2"
      ]
     },
     "execution_count": 7,
     "metadata": {},
     "output_type": "execute_result"
    }
   ],
   "source": [
    "5//2"
   ]
  },
  {
   "cell_type": "markdown",
   "metadata": {},
   "source": [
    "##### Modulo"
   ]
  },
  {
   "cell_type": "code",
   "execution_count": 8,
   "metadata": {},
   "outputs": [
    {
     "data": {
      "text/plain": [
       "1"
      ]
     },
     "execution_count": 8,
     "metadata": {},
     "output_type": "execute_result"
    }
   ],
   "source": [
    "5 % 2"
   ]
  },
  {
   "cell_type": "markdown",
   "metadata": {},
   "source": [
    "##### Exponential"
   ]
  },
  {
   "cell_type": "code",
   "execution_count": 9,
   "metadata": {},
   "outputs": [
    {
     "data": {
      "text/plain": [
       "25"
      ]
     },
     "execution_count": 9,
     "metadata": {},
     "output_type": "execute_result"
    }
   ],
   "source": [
    "5 ** 2"
   ]
  },
  {
   "cell_type": "markdown",
   "metadata": {},
   "source": [
    "### String Input-Output"
   ]
  },
  {
   "cell_type": "markdown",
   "metadata": {},
   "source": [
    "##### String Assignment"
   ]
  },
  {
   "cell_type": "code",
   "execution_count": 33,
   "metadata": {},
   "outputs": [
    {
     "name": "stdout",
     "output_type": "stream",
     "text": [
      "Nate\n"
     ]
    }
   ],
   "source": [
    "name = \"Kevin\"\n",
    "name = 'Kevin'"
   ]
  },
  {
   "cell_type": "markdown",
   "metadata": {},
   "source": [
    "##### print() <br>\n",
    "<p>Don't forget about end=' '</p>"
   ]
  },
  {
   "cell_type": "code",
   "execution_count": 43,
   "metadata": {},
   "outputs": [
    {
     "name": "stdout",
     "output_type": "stream",
     "text": [
      "This is my first name: Nate\n",
      "Full Name: Nate Welter"
     ]
    }
   ],
   "source": []
  },
  {
   "cell_type": "markdown",
   "metadata": {},
   "source": [
    "##### String Concatenation"
   ]
  },
  {
   "cell_type": "code",
   "execution_count": 45,
   "metadata": {},
   "outputs": [
    {
     "name": "stdout",
     "output_type": "stream",
     "text": [
      "Nate Welter\n"
     ]
    }
   ],
   "source": []
  },
  {
   "cell_type": "markdown",
   "metadata": {},
   "source": [
    "##### Type Conversion"
   ]
  },
  {
   "cell_type": "code",
   "execution_count": 54,
   "metadata": {},
   "outputs": [
    {
     "name": "stdout",
     "output_type": "stream",
     "text": [
      "<class 'int'>\n",
      "<class 'str'>\n"
     ]
    }
   ],
   "source": []
  },
  {
   "cell_type": "markdown",
   "metadata": {},
   "source": [
    "##### input()"
   ]
  },
  {
   "cell_type": "code",
   "execution_count": 61,
   "metadata": {},
   "outputs": [
    {
     "name": "stdout",
     "output_type": "stream",
     "text": [
      "What is your age?: 27\n",
      "27\n",
      "<class 'int'>\n"
     ]
    }
   ],
   "source": []
  },
  {
   "cell_type": "markdown",
   "metadata": {},
   "source": [
    "##### format()"
   ]
  },
  {
   "cell_type": "code",
   "execution_count": 11,
   "metadata": {
    "scrolled": true
   },
   "outputs": [
    {
     "name": "stdout",
     "output_type": "stream",
     "text": [
      "What is your age?33\n",
      "You are 33 years old and you are getting wiser!\n"
     ]
    }
   ],
   "source": [
    "age = int(input(\"What is your age?\"))\n",
    "result_string = 'You are {} years old and you are getting wiser!'.format(age)\n",
    "print(result_string)"
   ]
  },
  {
   "cell_type": "markdown",
   "metadata": {},
   "source": [
    "##### Old Way (python 2)"
   ]
  },
  {
   "cell_type": "code",
   "execution_count": 66,
   "metadata": {},
   "outputs": [
    {
     "name": "stdout",
     "output_type": "stream",
     "text": [
      "You are 27 and you look great for your age!\n"
     ]
    }
   ],
   "source": []
  },
  {
   "cell_type": "markdown",
   "metadata": {},
   "source": [
    "# In-Class Exercise 1 <br>\n",
    "<p>Create a format statement that asks for color, year, make, model and prints out the results</p>"
   ]
  },
  {
   "cell_type": "code",
   "execution_count": 13,
   "metadata": {},
   "outputs": [
    {
     "name": "stdout",
     "output_type": "stream",
     "text": [
      "What is the color of your car?red\n",
      "What is the year of your car?2017\n",
      "What is the make of your car?Ford\n",
      "What is the model of your car?150\n",
      "You drive a 2017 Ford 150 that is painted red!\n"
     ]
    }
   ],
   "source": [
    "color = input(\"What is the color of your car?\")\n",
    "year = input(\"What is the year of your car?\")\n",
    "make = input(\"What is the make of your car?\")\n",
    "model = input(\"What is the model of your car?\")\n",
    "\n",
    "result_string = f'You drive a {year} {make} {model} that is painted {color}!'\n",
    "\n",
    "print(result_string)"
   ]
  },
  {
   "cell_type": "markdown",
   "metadata": {},
   "source": [
    "### If Statements"
   ]
  },
  {
   "cell_type": "code",
   "execution_count": 73,
   "metadata": {},
   "outputs": [
    {
     "name": "stdout",
     "output_type": "stream",
     "text": [
      "Not Equal\n",
      "num1 is less\n",
      "nothing\n",
      "something\n"
     ]
    }
   ],
   "source": []
  },
  {
   "cell_type": "code",
   "execution_count": 15,
   "metadata": {},
   "outputs": [
    {
     "name": "stdout",
     "output_type": "stream",
     "text": [
      "0\n",
      "10\n"
     ]
    }
   ],
   "source": [
    "#Ternary Operator ... inline if statements\n",
    "\n",
    "# [value if true] [if] [boolean] [else] [value if false]\n",
    "\n",
    "name = \"john\"\n",
    "\n",
    "my_num = 5 if name == \"steve\" else 0\n",
    "print(my_num)\n",
    "\n",
    "my_num = 5 if name ==\"steve\" else 10 if name ==\"john\" else 0\n",
    "print(my_num)"
   ]
  },
  {
   "cell_type": "markdown",
   "metadata": {},
   "source": [
    "##### 'is' keyword"
   ]
  },
  {
   "cell_type": "code",
   "execution_count": 16,
   "metadata": {
    "scrolled": true
   },
   "outputs": [
    {
     "name": "stdout",
     "output_type": "stream",
     "text": [
      "y is None\n"
     ]
    }
   ],
   "source": [
    "y = None\n",
    "if y is None:\n",
    "    print(\"y is None\")"
   ]
  },
  {
   "cell_type": "markdown",
   "metadata": {},
   "source": [
    "##### 'in' keyword"
   ]
  },
  {
   "cell_type": "code",
   "execution_count": 76,
   "metadata": {},
   "outputs": [
    {
     "name": "stdout",
     "output_type": "stream",
     "text": [
      "The character who lost everything...\n"
     ]
    }
   ],
   "source": []
  },
  {
   "cell_type": "markdown",
   "metadata": {},
   "source": [
    "##### 'not in' keyword'"
   ]
  },
  {
   "cell_type": "code",
   "execution_count": 77,
   "metadata": {},
   "outputs": [
    {
     "name": "stdout",
     "output_type": "stream",
     "text": [
      "a is NOT in here....\n"
     ]
    }
   ],
   "source": []
  },
  {
   "cell_type": "markdown",
   "metadata": {},
   "source": [
    "# In-Class Exercise 2 <br>\n",
    "<p>Ask user for input, check to see if the letter 'p' is in the input</p>"
   ]
  },
  {
   "cell_type": "code",
   "execution_count": 19,
   "metadata": {},
   "outputs": [
    {
     "name": "stdout",
     "output_type": "stream",
     "text": [
      "What is your name? Pat\n",
      "You have a 'p' in your name!\n"
     ]
    }
   ],
   "source": [
    "name = input(\"What is your name? \")\n",
    "\n",
    "if 'p' in name.lower():\n",
    "    print(\"You have a 'p' in your name!\")\n",
    "else:\n",
    "    print(\"No 'p' in your name sorry :(\")"
   ]
  },
  {
   "cell_type": "code",
   "execution_count": null,
   "metadata": {},
   "outputs": [],
   "source": [
    "\"you have a p\" if \"p\" in input(\"What is your name? \").lower() else \"no p\""
   ]
  },
  {
   "cell_type": "markdown",
   "metadata": {},
   "source": [
    "## Using 'and'/'or' with If Statements"
   ]
  },
  {
   "cell_type": "code",
   "execution_count": null,
   "metadata": {},
   "outputs": [],
   "source": []
  },
  {
   "cell_type": "markdown",
   "metadata": {},
   "source": [
    "### Elif Statements"
   ]
  },
  {
   "cell_type": "code",
   "execution_count": null,
   "metadata": {},
   "outputs": [],
   "source": []
  },
  {
   "cell_type": "markdown",
   "metadata": {},
   "source": [
    "### Else Statements"
   ]
  },
  {
   "cell_type": "code",
   "execution_count": null,
   "metadata": {},
   "outputs": [],
   "source": []
  },
  {
   "cell_type": "markdown",
   "metadata": {},
   "source": [
    "### For Loops"
   ]
  },
  {
   "cell_type": "code",
   "execution_count": 80,
   "metadata": {},
   "outputs": [
    {
     "name": "stdout",
     "output_type": "stream",
     "text": [
      "0\n",
      "1\n",
      "2\n",
      "3\n",
      "4\n",
      "5\n",
      "6\n",
      "7\n",
      "8\n",
      "9\n",
      "N\n",
      "a\n",
      "t\n",
      "e\n",
      " \n",
      "W\n",
      "e\n",
      "l\n",
      "t\n",
      "e\n",
      "r\n"
     ]
    }
   ],
   "source": [
    "for tuple in enumerate(foods):"
   ]
  },
  {
   "cell_type": "markdown",
   "metadata": {},
   "source": [
    "##### Using 'in' keyword"
   ]
  },
  {
   "cell_type": "code",
   "execution_count": null,
   "metadata": {},
   "outputs": [],
   "source": []
  },
  {
   "cell_type": "markdown",
   "metadata": {},
   "source": [
    "##### Continue Statement"
   ]
  },
  {
   "cell_type": "code",
   "execution_count": 2,
   "metadata": {},
   "outputs": [],
   "source": []
  },
  {
   "cell_type": "code",
   "execution_count": 81,
   "metadata": {},
   "outputs": [
    {
     "name": "stdout",
     "output_type": "stream",
     "text": [
      "0\n",
      "1\n",
      "2\n",
      "3\n",
      "4\n",
      "6\n",
      "7\n",
      "8\n",
      "9\n",
      "10\n",
      "11\n",
      "12\n",
      "13\n",
      "14\n",
      "15\n",
      "16\n",
      "17\n",
      "18\n",
      "19\n"
     ]
    }
   ],
   "source": []
  },
  {
   "cell_type": "markdown",
   "metadata": {},
   "source": [
    "##### Break Statement"
   ]
  },
  {
   "cell_type": "code",
   "execution_count": 3,
   "metadata": {},
   "outputs": [],
   "source": []
  },
  {
   "cell_type": "code",
   "execution_count": 82,
   "metadata": {},
   "outputs": [
    {
     "name": "stdout",
     "output_type": "stream",
     "text": [
      "0\n",
      "1\n",
      "2\n",
      "3\n",
      "4\n"
     ]
    }
   ],
   "source": []
  },
  {
   "cell_type": "markdown",
   "metadata": {},
   "source": [
    "##### Pass Statement"
   ]
  },
  {
   "cell_type": "code",
   "execution_count": 4,
   "metadata": {},
   "outputs": [],
   "source": []
  },
  {
   "cell_type": "code",
   "execution_count": 88,
   "metadata": {},
   "outputs": [],
   "source": []
  },
  {
   "cell_type": "markdown",
   "metadata": {},
   "source": [
    "##### Double For Loops"
   ]
  },
  {
   "cell_type": "code",
   "execution_count": 91,
   "metadata": {},
   "outputs": [
    {
     "name": "stdout",
     "output_type": "stream",
     "text": [
      "i = 0, j = 0\n",
      "i = 0, j = 1\n",
      "i = 0, j = 2\n",
      "i = 0, j = 3\n",
      "i = 0, j = 4\n",
      "i = 1, j = 0\n",
      "i = 1, j = 1\n",
      "i = 1, j = 2\n",
      "i = 1, j = 3\n",
      "i = 1, j = 4\n",
      "i = 2, j = 0\n",
      "i = 2, j = 1\n",
      "i = 2, j = 2\n",
      "i = 2, j = 3\n",
      "i = 2, j = 4\n",
      "i = 3, j = 0\n",
      "i = 3, j = 1\n",
      "i = 3, j = 2\n",
      "i = 3, j = 3\n",
      "i = 3, j = 4\n",
      "i = 4, j = 0\n",
      "i = 4, j = 1\n",
      "i = 4, j = 2\n",
      "i = 4, j = 3\n",
      "i = 4, j = 4\n",
      "i = 5, j = 0\n",
      "i = 5, j = 1\n",
      "i = 5, j = 2\n",
      "i = 5, j = 3\n",
      "i = 5, j = 4\n",
      "i = 6, j = 0\n",
      "i = 6, j = 1\n",
      "i = 6, j = 2\n",
      "i = 6, j = 3\n",
      "i = 6, j = 4\n",
      "i = 7, j = 0\n",
      "i = 7, j = 1\n",
      "i = 7, j = 2\n",
      "i = 7, j = 3\n",
      "i = 7, j = 4\n",
      "i = 8, j = 0\n",
      "i = 8, j = 1\n",
      "i = 8, j = 2\n",
      "i = 8, j = 3\n",
      "i = 8, j = 4\n",
      "i = 9, j = 0\n",
      "i = 9, j = 1\n",
      "i = 9, j = 2\n",
      "i = 9, j = 3\n",
      "i = 9, j = 4\n",
      "i = 10, j = 0\n",
      "i = 10, j = 1\n",
      "i = 10, j = 2\n",
      "i = 10, j = 3\n",
      "i = 10, j = 4\n",
      "i = 11, j = 0\n",
      "i = 11, j = 1\n",
      "i = 11, j = 2\n",
      "i = 11, j = 3\n",
      "i = 11, j = 4\n",
      "i = 12, j = 0\n",
      "i = 12, j = 1\n",
      "i = 12, j = 2\n",
      "i = 12, j = 3\n",
      "i = 12, j = 4\n",
      "i = 13, j = 0\n",
      "i = 13, j = 1\n",
      "i = 13, j = 2\n",
      "i = 13, j = 3\n",
      "i = 13, j = 4\n",
      "i = 14, j = 0\n",
      "i = 14, j = 1\n",
      "i = 14, j = 2\n",
      "i = 14, j = 3\n",
      "i = 14, j = 4\n",
      "i = 15, j = 0\n",
      "i = 15, j = 1\n",
      "i = 15, j = 2\n",
      "i = 15, j = 3\n",
      "i = 15, j = 4\n",
      "i = 16, j = 0\n",
      "i = 16, j = 1\n",
      "i = 16, j = 2\n",
      "i = 16, j = 3\n",
      "i = 16, j = 4\n",
      "i = 17, j = 0\n",
      "i = 17, j = 1\n",
      "i = 17, j = 2\n",
      "i = 17, j = 3\n",
      "i = 17, j = 4\n",
      "i = 18, j = 0\n",
      "i = 18, j = 1\n",
      "i = 18, j = 2\n",
      "i = 18, j = 3\n",
      "i = 18, j = 4\n",
      "i = 19, j = 0\n",
      "i = 19, j = 1\n",
      "i = 19, j = 2\n",
      "i = 19, j = 3\n",
      "i = 19, j = 4\n",
      "i = 20, j = 0\n",
      "i = 20, j = 1\n",
      "i = 20, j = 2\n",
      "i = 20, j = 3\n",
      "i = 20, j = 4\n",
      "i = 21, j = 0\n",
      "i = 21, j = 1\n",
      "i = 21, j = 2\n",
      "i = 21, j = 3\n",
      "i = 21, j = 4\n",
      "i = 22, j = 0\n",
      "i = 22, j = 1\n",
      "i = 22, j = 2\n",
      "i = 22, j = 3\n",
      "i = 22, j = 4\n",
      "i = 23, j = 0\n",
      "i = 23, j = 1\n",
      "i = 23, j = 2\n",
      "i = 23, j = 3\n",
      "i = 23, j = 4\n",
      "i = 24, j = 0\n",
      "i = 24, j = 1\n",
      "i = 24, j = 2\n",
      "i = 24, j = 3\n",
      "i = 24, j = 4\n",
      "i = 25, j = 0\n",
      "i = 25, j = 1\n",
      "i = 25, j = 2\n",
      "i = 25, j = 3\n",
      "i = 25, j = 4\n",
      "i = 26, j = 0\n",
      "i = 26, j = 1\n",
      "i = 26, j = 2\n",
      "i = 26, j = 3\n",
      "i = 26, j = 4\n",
      "i = 27, j = 0\n",
      "i = 27, j = 1\n",
      "i = 27, j = 2\n",
      "i = 27, j = 3\n",
      "i = 27, j = 4\n",
      "i = 28, j = 0\n",
      "i = 28, j = 1\n",
      "i = 28, j = 2\n",
      "i = 28, j = 3\n",
      "i = 28, j = 4\n",
      "i = 29, j = 0\n",
      "i = 29, j = 1\n",
      "i = 29, j = 2\n",
      "i = 29, j = 3\n",
      "i = 29, j = 4\n",
      "i = 30, j = 0\n",
      "i = 30, j = 1\n",
      "i = 30, j = 2\n",
      "i = 30, j = 3\n",
      "i = 30, j = 4\n",
      "i = 31, j = 0\n",
      "i = 31, j = 1\n",
      "i = 31, j = 2\n",
      "i = 31, j = 3\n",
      "i = 31, j = 4\n",
      "i = 32, j = 0\n",
      "i = 32, j = 1\n",
      "i = 32, j = 2\n",
      "i = 32, j = 3\n",
      "i = 32, j = 4\n",
      "i = 33, j = 0\n",
      "i = 33, j = 1\n",
      "i = 33, j = 2\n",
      "i = 33, j = 3\n",
      "i = 33, j = 4\n",
      "i = 34, j = 0\n",
      "i = 34, j = 1\n",
      "i = 34, j = 2\n",
      "i = 34, j = 3\n",
      "i = 34, j = 4\n",
      "i = 35, j = 0\n",
      "i = 35, j = 1\n",
      "i = 35, j = 2\n",
      "i = 35, j = 3\n",
      "i = 35, j = 4\n",
      "i = 36, j = 0\n",
      "i = 36, j = 1\n",
      "i = 36, j = 2\n",
      "i = 36, j = 3\n",
      "i = 36, j = 4\n",
      "i = 37, j = 0\n",
      "i = 37, j = 1\n",
      "i = 37, j = 2\n",
      "i = 37, j = 3\n",
      "i = 37, j = 4\n",
      "i = 38, j = 0\n",
      "i = 38, j = 1\n",
      "i = 38, j = 2\n",
      "i = 38, j = 3\n",
      "i = 38, j = 4\n",
      "i = 39, j = 0\n",
      "i = 39, j = 1\n",
      "i = 39, j = 2\n",
      "i = 39, j = 3\n",
      "i = 39, j = 4\n",
      "i = 40, j = 0\n",
      "i = 40, j = 1\n",
      "i = 40, j = 2\n",
      "i = 40, j = 3\n",
      "i = 40, j = 4\n",
      "i = 41, j = 0\n",
      "i = 41, j = 1\n",
      "i = 41, j = 2\n",
      "i = 41, j = 3\n",
      "i = 41, j = 4\n",
      "i = 42, j = 0\n",
      "i = 42, j = 1\n",
      "i = 42, j = 2\n",
      "i = 42, j = 3\n",
      "i = 42, j = 4\n",
      "i = 43, j = 0\n",
      "i = 43, j = 1\n",
      "i = 43, j = 2\n",
      "i = 43, j = 3\n",
      "i = 43, j = 4\n",
      "i = 44, j = 0\n",
      "i = 44, j = 1\n",
      "i = 44, j = 2\n",
      "i = 44, j = 3\n",
      "i = 44, j = 4\n",
      "i = 45, j = 0\n",
      "i = 45, j = 1\n",
      "i = 45, j = 2\n",
      "i = 45, j = 3\n",
      "i = 45, j = 4\n",
      "i = 46, j = 0\n",
      "i = 46, j = 1\n",
      "i = 46, j = 2\n",
      "i = 46, j = 3\n",
      "i = 46, j = 4\n",
      "i = 47, j = 0\n",
      "i = 47, j = 1\n",
      "i = 47, j = 2\n",
      "i = 47, j = 3\n",
      "i = 47, j = 4\n",
      "i = 48, j = 0\n",
      "i = 48, j = 1\n",
      "i = 48, j = 2\n",
      "i = 48, j = 3\n",
      "i = 48, j = 4\n",
      "i = 49, j = 0\n",
      "i = 49, j = 1\n",
      "i = 49, j = 2\n",
      "i = 49, j = 3\n",
      "i = 49, j = 4\n",
      "i = 50, j = 0\n",
      "i = 50, j = 1\n",
      "i = 50, j = 2\n",
      "i = 50, j = 3\n",
      "i = 50, j = 4\n",
      "i = 51, j = 0\n",
      "i = 51, j = 1\n",
      "i = 51, j = 2\n",
      "i = 51, j = 3\n",
      "i = 51, j = 4\n",
      "i = 52, j = 0\n",
      "i = 52, j = 1\n",
      "i = 52, j = 2\n",
      "i = 52, j = 3\n",
      "i = 52, j = 4\n",
      "i = 53, j = 0\n",
      "i = 53, j = 1\n",
      "i = 53, j = 2\n",
      "i = 53, j = 3\n",
      "i = 53, j = 4\n",
      "i = 54, j = 0\n",
      "i = 54, j = 1\n",
      "i = 54, j = 2\n",
      "i = 54, j = 3\n",
      "i = 54, j = 4\n",
      "i = 55, j = 0\n",
      "i = 55, j = 1\n",
      "i = 55, j = 2\n",
      "i = 55, j = 3\n",
      "i = 55, j = 4\n",
      "i = 56, j = 0\n",
      "i = 56, j = 1\n",
      "i = 56, j = 2\n",
      "i = 56, j = 3\n",
      "i = 56, j = 4\n",
      "i = 57, j = 0\n",
      "i = 57, j = 1\n",
      "i = 57, j = 2\n",
      "i = 57, j = 3\n",
      "i = 57, j = 4\n",
      "i = 58, j = 0\n",
      "i = 58, j = 1\n",
      "i = 58, j = 2\n",
      "i = 58, j = 3\n",
      "i = 58, j = 4\n",
      "i = 59, j = 0\n",
      "i = 59, j = 1\n",
      "i = 59, j = 2\n",
      "i = 59, j = 3\n",
      "i = 59, j = 4\n",
      "i = 60, j = 0\n",
      "i = 60, j = 1\n",
      "i = 60, j = 2\n",
      "i = 60, j = 3\n",
      "i = 60, j = 4\n",
      "i = 61, j = 0\n",
      "i = 61, j = 1\n",
      "i = 61, j = 2\n",
      "i = 61, j = 3\n",
      "i = 61, j = 4\n",
      "i = 62, j = 0\n",
      "i = 62, j = 1\n",
      "i = 62, j = 2\n",
      "i = 62, j = 3\n",
      "i = 62, j = 4\n",
      "i = 63, j = 0\n",
      "i = 63, j = 1\n",
      "i = 63, j = 2\n",
      "i = 63, j = 3\n",
      "i = 63, j = 4\n",
      "i = 64, j = 0\n",
      "i = 64, j = 1\n",
      "i = 64, j = 2\n",
      "i = 64, j = 3\n",
      "i = 64, j = 4\n",
      "i = 65, j = 0\n",
      "i = 65, j = 1\n",
      "i = 65, j = 2\n",
      "i = 65, j = 3\n",
      "i = 65, j = 4\n",
      "i = 66, j = 0\n",
      "i = 66, j = 1\n",
      "i = 66, j = 2\n",
      "i = 66, j = 3\n",
      "i = 66, j = 4\n",
      "i = 67, j = 0\n",
      "i = 67, j = 1\n",
      "i = 67, j = 2\n",
      "i = 67, j = 3\n",
      "i = 67, j = 4\n",
      "i = 68, j = 0\n",
      "i = 68, j = 1\n",
      "i = 68, j = 2\n",
      "i = 68, j = 3\n",
      "i = 68, j = 4\n",
      "i = 69, j = 0\n",
      "i = 69, j = 1\n",
      "i = 69, j = 2\n",
      "i = 69, j = 3\n",
      "i = 69, j = 4\n",
      "i = 70, j = 0\n",
      "i = 70, j = 1\n",
      "i = 70, j = 2\n",
      "i = 70, j = 3\n",
      "i = 70, j = 4\n",
      "i = 71, j = 0\n",
      "i = 71, j = 1\n",
      "i = 71, j = 2\n",
      "i = 71, j = 3\n",
      "i = 71, j = 4\n",
      "i = 72, j = 0\n",
      "i = 72, j = 1\n",
      "i = 72, j = 2\n",
      "i = 72, j = 3\n",
      "i = 72, j = 4\n",
      "i = 73, j = 0\n",
      "i = 73, j = 1\n",
      "i = 73, j = 2\n",
      "i = 73, j = 3\n",
      "i = 73, j = 4\n",
      "i = 74, j = 0\n",
      "i = 74, j = 1\n",
      "i = 74, j = 2\n",
      "i = 74, j = 3\n",
      "i = 74, j = 4\n",
      "i = 75, j = 0\n",
      "i = 75, j = 1\n",
      "i = 75, j = 2\n",
      "i = 75, j = 3\n",
      "i = 75, j = 4\n",
      "i = 76, j = 0\n",
      "i = 76, j = 1\n",
      "i = 76, j = 2\n",
      "i = 76, j = 3\n",
      "i = 76, j = 4\n",
      "i = 77, j = 0\n",
      "i = 77, j = 1\n",
      "i = 77, j = 2\n",
      "i = 77, j = 3\n",
      "i = 77, j = 4\n",
      "i = 78, j = 0\n",
      "i = 78, j = 1\n",
      "i = 78, j = 2\n",
      "i = 78, j = 3\n",
      "i = 78, j = 4\n",
      "i = 79, j = 0\n",
      "i = 79, j = 1\n",
      "i = 79, j = 2\n",
      "i = 79, j = 3\n",
      "i = 79, j = 4\n",
      "i = 80, j = 0\n",
      "i = 80, j = 1\n",
      "i = 80, j = 2\n",
      "i = 80, j = 3\n",
      "i = 80, j = 4\n",
      "i = 81, j = 0\n",
      "i = 81, j = 1\n",
      "i = 81, j = 2\n",
      "i = 81, j = 3\n",
      "i = 81, j = 4\n",
      "i = 82, j = 0\n",
      "i = 82, j = 1\n",
      "i = 82, j = 2\n",
      "i = 82, j = 3\n",
      "i = 82, j = 4\n",
      "i = 83, j = 0\n",
      "i = 83, j = 1\n",
      "i = 83, j = 2\n",
      "i = 83, j = 3\n",
      "i = 83, j = 4\n",
      "i = 84, j = 0\n",
      "i = 84, j = 1\n",
      "i = 84, j = 2\n",
      "i = 84, j = 3\n",
      "i = 84, j = 4\n",
      "i = 85, j = 0\n",
      "i = 85, j = 1\n",
      "i = 85, j = 2\n",
      "i = 85, j = 3\n",
      "i = 85, j = 4\n",
      "i = 86, j = 0\n",
      "i = 86, j = 1\n",
      "i = 86, j = 2\n",
      "i = 86, j = 3\n",
      "i = 86, j = 4\n",
      "i = 87, j = 0\n",
      "i = 87, j = 1\n",
      "i = 87, j = 2\n",
      "i = 87, j = 3\n",
      "i = 87, j = 4\n",
      "i = 88, j = 0\n",
      "i = 88, j = 1\n",
      "i = 88, j = 2\n",
      "i = 88, j = 3\n",
      "i = 88, j = 4\n",
      "i = 89, j = 0\n",
      "i = 89, j = 1\n",
      "i = 89, j = 2\n",
      "i = 89, j = 3\n",
      "i = 89, j = 4\n",
      "i = 90, j = 0\n",
      "i = 90, j = 1\n",
      "i = 90, j = 2\n",
      "i = 90, j = 3\n",
      "i = 90, j = 4\n",
      "i = 91, j = 0\n",
      "i = 91, j = 1\n",
      "i = 91, j = 2\n",
      "i = 91, j = 3\n",
      "i = 91, j = 4\n",
      "i = 92, j = 0\n",
      "i = 92, j = 1\n",
      "i = 92, j = 2\n",
      "i = 92, j = 3\n",
      "i = 92, j = 4\n",
      "i = 93, j = 0\n",
      "i = 93, j = 1\n",
      "i = 93, j = 2\n",
      "i = 93, j = 3\n",
      "i = 93, j = 4\n",
      "i = 94, j = 0\n",
      "i = 94, j = 1\n",
      "i = 94, j = 2\n",
      "i = 94, j = 3\n",
      "i = 94, j = 4\n",
      "i = 95, j = 0\n",
      "i = 95, j = 1\n",
      "i = 95, j = 2\n",
      "i = 95, j = 3\n",
      "i = 95, j = 4\n",
      "i = 96, j = 0\n",
      "i = 96, j = 1\n",
      "i = 96, j = 2\n",
      "i = 96, j = 3\n",
      "i = 96, j = 4\n",
      "i = 97, j = 0\n",
      "i = 97, j = 1\n",
      "i = 97, j = 2\n",
      "i = 97, j = 3\n",
      "i = 97, j = 4\n",
      "i = 98, j = 0\n",
      "i = 98, j = 1\n",
      "i = 98, j = 2\n",
      "i = 98, j = 3\n",
      "i = 98, j = 4\n",
      "i = 99, j = 0\n",
      "i = 99, j = 1\n",
      "i = 99, j = 2\n",
      "i = 99, j = 3\n",
      "i = 99, j = 4\n"
     ]
    }
   ],
   "source": []
  },
  {
   "cell_type": "markdown",
   "metadata": {},
   "source": [
    "### While Loops"
   ]
  },
  {
   "cell_type": "code",
   "execution_count": 5,
   "metadata": {},
   "outputs": [],
   "source": []
  },
  {
   "cell_type": "markdown",
   "metadata": {},
   "source": [
    "##### Looping 'While True'"
   ]
  },
  {
   "cell_type": "code",
   "execution_count": null,
   "metadata": {},
   "outputs": [],
   "source": []
  },
  {
   "cell_type": "markdown",
   "metadata": {},
   "source": [
    "##### While & For Loops Used Together"
   ]
  },
  {
   "cell_type": "code",
   "execution_count": null,
   "metadata": {},
   "outputs": [],
   "source": []
  },
  {
   "cell_type": "markdown",
   "metadata": {},
   "source": [
    "### Built-In Functions"
   ]
  },
  {
   "cell_type": "markdown",
   "metadata": {},
   "source": [
    "##### range()"
   ]
  },
  {
   "cell_type": "code",
   "execution_count": 6,
   "metadata": {},
   "outputs": [],
   "source": []
  },
  {
   "cell_type": "markdown",
   "metadata": {},
   "source": [
    "##### len()"
   ]
  },
  {
   "cell_type": "code",
   "execution_count": 7,
   "metadata": {},
   "outputs": [],
   "source": []
  },
  {
   "cell_type": "markdown",
   "metadata": {},
   "source": [
    "##### help()"
   ]
  },
  {
   "cell_type": "code",
   "execution_count": 8,
   "metadata": {},
   "outputs": [],
   "source": [
    " \n"
   ]
  },
  {
   "cell_type": "markdown",
   "metadata": {},
   "source": [
    "##### isinstance()"
   ]
  },
  {
   "cell_type": "code",
   "execution_count": 9,
   "metadata": {},
   "outputs": [],
   "source": []
  },
  {
   "cell_type": "markdown",
   "metadata": {},
   "source": [
    "##### abs()"
   ]
  },
  {
   "cell_type": "code",
   "execution_count": 10,
   "metadata": {},
   "outputs": [],
   "source": [
    "\n"
   ]
  },
  {
   "cell_type": "markdown",
   "metadata": {},
   "source": [
    "### Try and Except"
   ]
  },
  {
   "cell_type": "code",
   "execution_count": 11,
   "metadata": {
    "scrolled": true
   },
   "outputs": [],
   "source": [
    "\n"
   ]
  },
  {
   "cell_type": "markdown",
   "metadata": {},
   "source": [
    "### Lists"
   ]
  },
  {
   "cell_type": "markdown",
   "metadata": {},
   "source": [
    "##### Declaring Lists"
   ]
  },
  {
   "cell_type": "code",
   "execution_count": null,
   "metadata": {},
   "outputs": [],
   "source": []
  },
  {
   "cell_type": "markdown",
   "metadata": {},
   "source": [
    "##### Indexing a List"
   ]
  },
  {
   "cell_type": "code",
   "execution_count": 12,
   "metadata": {},
   "outputs": [],
   "source": []
  },
  {
   "cell_type": "markdown",
   "metadata": {},
   "source": [
    "##### .append()"
   ]
  },
  {
   "cell_type": "code",
   "execution_count": 13,
   "metadata": {},
   "outputs": [],
   "source": [
    "\n"
   ]
  },
  {
   "cell_type": "markdown",
   "metadata": {},
   "source": [
    "##### .insert()"
   ]
  },
  {
   "cell_type": "code",
   "execution_count": 14,
   "metadata": {},
   "outputs": [],
   "source": [
    "\n"
   ]
  },
  {
   "cell_type": "markdown",
   "metadata": {},
   "source": [
    "##### .pop()"
   ]
  },
  {
   "cell_type": "code",
   "execution_count": 15,
   "metadata": {},
   "outputs": [],
   "source": []
  },
  {
   "cell_type": "markdown",
   "metadata": {},
   "source": [
    "\n",
    "##### .remove()"
   ]
  },
  {
   "cell_type": "code",
   "execution_count": 16,
   "metadata": {},
   "outputs": [],
   "source": [
    "\n"
   ]
  },
  {
   "cell_type": "markdown",
   "metadata": {},
   "source": [
    "##### del()"
   ]
  },
  {
   "cell_type": "code",
   "execution_count": 17,
   "metadata": {},
   "outputs": [],
   "source": []
  },
  {
   "cell_type": "markdown",
   "metadata": {},
   "source": [
    "##### Concatenating Two Lists"
   ]
  },
  {
   "cell_type": "code",
   "execution_count": 18,
   "metadata": {},
   "outputs": [],
   "source": [
    "\n"
   ]
  },
  {
   "cell_type": "markdown",
   "metadata": {},
   "source": [
    "##### Lists Within Lists"
   ]
  },
  {
   "cell_type": "code",
   "execution_count": 19,
   "metadata": {},
   "outputs": [],
   "source": []
  },
  {
   "cell_type": "markdown",
   "metadata": {},
   "source": [
    "##### Looping Through Lists"
   ]
  },
  {
   "cell_type": "code",
   "execution_count": 20,
   "metadata": {},
   "outputs": [],
   "source": [
    "\n"
   ]
  },
  {
   "cell_type": "markdown",
   "metadata": {},
   "source": [
    "## Exercise #1 <br>\n",
    "<p>Cube Number Test... Print out all cubed numbers up to the total value 1000, so if the cubed number is over 1000 break the loop.</p>"
   ]
  },
  {
   "cell_type": "code",
   "execution_count": 1,
   "metadata": {
    "scrolled": false
   },
   "outputs": [
    {
     "name": "stdout",
     "output_type": "stream",
     "text": [
      "The cubed value of 1 is 1.\n",
      "The cubed value of 2 is 8.\n",
      "The cubed value of 3 is 27.\n",
      "The cubed value of 4 is 64.\n",
      "The cubed value of 5 is 125.\n",
      "The cubed value of 6 is 216.\n",
      "The cubed value of 7 is 343.\n",
      "The cubed value of 8 is 512.\n",
      "The cubed value of 9 is 729.\n",
      "The cubed value of 10 is 1000.\n"
     ]
    }
   ],
   "source": [
    "num = 1\n",
    "while True:\n",
    "    if num**3 > 1000:\n",
    "        break\n",
    "    else:\n",
    "        print(f\"The cubed value of {num} is {num**3}.\")\n",
    "        num += 1"
   ]
  },
  {
   "cell_type": "markdown",
   "metadata": {},
   "source": [
    "## Exercise #2 <br>\n",
    "<p>Get first prime numbers up to 100</p>"
   ]
  },
  {
   "cell_type": "code",
   "execution_count": 3,
   "metadata": {},
   "outputs": [
    {
     "name": "stdout",
     "output_type": "stream",
     "text": [
      "[1, 2, 3, 5, 7, 11, 13, 17, 19, 23, 29, 31, 37, 41, 43, 47, 53, 59, 61, 67, 71, 73, 79, 83, 89, 97]\n"
     ]
    }
   ],
   "source": [
    "primelist=[]\n",
    "\n",
    "for num1 in range(1,100):\n",
    "    test = True\n",
    "    for num2 in range(2,num1):\n",
    "        if num1 % num2 == 0:\n",
    "            test = False\n",
    "    if test == True:\n",
    "        primelist.append(num1)\n",
    "\n",
    "print(primelist)"
   ]
  },
  {
   "cell_type": "markdown",
   "metadata": {},
   "source": [
    "# Exercise 3 <br>\n",
    "<p>Take in a users input for their age, if they are younger than 18 print kids, if they're 18 to 65 print adults, else print seniors</p>"
   ]
  },
  {
   "cell_type": "code",
   "execution_count": 2,
   "metadata": {},
   "outputs": [
    {
     "name": "stdout",
     "output_type": "stream",
     "text": [
      "How old are you? 39\n",
      "Adults\n"
     ]
    }
   ],
   "source": [
    "age = input(\"How old are you? \")\n",
    "if int(age) < 18:\n",
    "    print(\"Kids\")\n",
    "elif int(age) >= 18 and int(age) <= 65:\n",
    "    print(\"Adults\")\n",
    "elif int(age) > 65:\n",
    "    print(\"Seniors\")"
   ]
  },
  {
   "cell_type": "code",
   "execution_count": null,
   "metadata": {},
   "outputs": [],
   "source": []
  }
 ],
 "metadata": {
  "kernelspec": {
   "display_name": "Python 3 (ipykernel)",
   "language": "python",
   "name": "python3"
  },
  "language_info": {
   "codemirror_mode": {
    "name": "ipython",
    "version": 3
   },
   "file_extension": ".py",
   "mimetype": "text/x-python",
   "name": "python",
   "nbconvert_exporter": "python",
   "pygments_lexer": "ipython3",
   "version": "3.9.7"
  }
 },
 "nbformat": 4,
 "nbformat_minor": 2
}
